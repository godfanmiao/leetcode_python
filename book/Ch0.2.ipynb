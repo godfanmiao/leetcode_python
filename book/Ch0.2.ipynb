{
 "cells": [
  {
   "cell_type": "code",
   "execution_count": 1,
   "id": "b63e4a54",
   "metadata": {},
   "outputs": [
    {
     "data": {
      "text/plain": [
       "6"
      ]
     },
     "execution_count": 1,
     "metadata": {},
     "output_type": "execute_result"
    }
   ],
   "source": [
    "def alg(n):\n",
    "    a = 1\n",
    "    b = 2\n",
    "    res = a * b + n\n",
    "    return res\n",
    "\n",
    "alg(4)"
   ]
  },
  {
   "cell_type": "code",
   "execution_count": 2,
   "id": "89acbae9",
   "metadata": {},
   "outputs": [
    {
     "data": {
      "text/plain": [
       "5"
      ]
     },
     "execution_count": 2,
     "metadata": {},
     "output_type": "execute_result"
    }
   ],
   "source": [
    "def alg_2(n):\n",
    "    sum = 0\n",
    "    for i in range(n):\n",
    "        sum += 1\n",
    "    return sum\n",
    "\n",
    "alg_2(5)"
   ]
  },
  {
   "cell_type": "code",
   "execution_count": null,
   "id": "f53c30a3",
   "metadata": {},
   "outputs": [],
   "source": []
  }
 ],
 "metadata": {
  "kernelspec": {
   "display_name": "Python 3 (ipykernel)",
   "language": "python",
   "name": "python3"
  },
  "language_info": {
   "codemirror_mode": {
    "name": "ipython",
    "version": 3
   },
   "file_extension": ".py",
   "mimetype": "text/x-python",
   "name": "python",
   "nbconvert_exporter": "python",
   "pygments_lexer": "ipython3",
   "version": "3.9.13"
  }
 },
 "nbformat": 4,
 "nbformat_minor": 5
}
