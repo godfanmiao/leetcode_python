{
 "cells": [
  {
   "cell_type": "code",
   "execution_count": 2,
   "id": "a40e7136",
   "metadata": {},
   "outputs": [],
   "source": [
    "\n",
    "# https://leetcode.cn/problems/two-sum/\n"
   ]
  },
  {
   "cell_type": "code",
   "execution_count": null,
   "id": "ed451e03",
   "metadata": {},
   "outputs": [],
   "source": [
    "class Solution:\n",
    "    def twoSum(self, nums: List[int], target: int) -> List[int]:\n",
    "        "
   ]
  },
  {
   "cell_type": "code",
   "execution_count": null,
   "id": "681a9801",
   "metadata": {},
   "outputs": [],
   "source": []
  }
 ],
 "metadata": {
  "kernelspec": {
   "display_name": "Python 3 (ipykernel)",
   "language": "python",
   "name": "python3"
  },
  "language_info": {
   "codemirror_mode": {
    "name": "ipython",
    "version": 3
   },
   "file_extension": ".py",
   "mimetype": "text/x-python",
   "name": "python",
   "nbconvert_exporter": "python",
   "pygments_lexer": "ipython3",
   "version": "3.10.9"
  }
 },
 "nbformat": 4,
 "nbformat_minor": 5
}
